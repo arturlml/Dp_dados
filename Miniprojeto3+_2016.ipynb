{
 "cells": [
  {
   "cell_type": "markdown",
   "metadata": {},
   "source": [
    "# MiniProjeto 3 - Bootstrapping\n",
    "\n",
    "## Objetivo\n",
    "\n",
    "O objetivo deste projeto é entender e implementar o método bootstrapping. \n",
    "\n",
    "Problema: a amostra abaixo representa o tempo medido de abertura do software de vendas de uma empresa em minutos."
   ]
  },
  {
   "cell_type": "code",
   "execution_count": 106,
   "metadata": {
    "collapsed": false
   },
   "outputs": [
    {
     "name": "stdout",
     "output_type": "stream",
     "text": [
      "Média: 0.5453557469230769\n",
      "Desvio Padrão: 0.2547555304406469\n"
     ]
    },
    {
     "data": {
      "text/plain": [
       "<matplotlib.axes._subplots.AxesSubplot at 0x4dc5e83c8>"
      ]
     },
     "execution_count": 106,
     "metadata": {},
     "output_type": "execute_result"
    },
    {
     "data": {
      "image/png": "[encoded data removed]",
      "text/plain": [
       "<matplotlib.figure.Figure at 0x4dc5f77b8>"
      ]
     },
     "metadata": {},
     "output_type": "display_data"
    }
   ],
   "source": [
    "%matplotlib inline\n",
    "import pandas as pd\n",
    "from scipy.stats import *\n",
    "import numpy as np\n",
    "from scipy import linspace\n",
    "import matplotlib.pyplot as plt\n",
    "\n",
    "x = [0.69689142,  0.57995802,  0.06450754,  0.61206626,  0.91976314,  0.34363861,  0.82575631,  0.41666036,  \n",
    "     0.62153527,  0.56757104,  0.86683518,  0.28922458,  0.28521698]\n",
    "\n",
    "n = len(x)\n",
    "\n",
    "print(\"Média: {0}\".format(np.mean(x)))\n",
    "print(\"Desvio Padrão: {0}\".format(np.std(x, ddof=1)))\n",
    "pd.Series(x).hist(normed=True)"
   ]
  },
  {
   "cell_type": "markdown",
   "metadata": {},
   "source": [
    "Excepcionalmente hoje, os usuários estavam reclamando de lentidão no sistema, pois ao abrir o programa demorava em média 0.68 minutos com um desvio padrão de 0.27 minutos. Usando um nível de significância de 95%, podemos afirmar que há algum problema estrutural?\n",
    "\n",
    "Para realizar o Teste de Hipóteses, temos as premissas:\n",
    "\n",
    "$$\\bar{X}=\\frac{\\sum_{i=1}^nX_i}{n}$$\n",
    "\n",
    "Onde $X_i$ é uma variável aleatória de uma distribuição **desconhecida**. Se $X_i$ fosse uma normal com apenas a variância desconhecida, deveríamos utilizar o teste T. Ou ainda, se n fosse suficientemente grande, poderíamos assumir que $\\bar{X}$ é normal devido ao TLC. Porém sem as premissas anteriores, devemos utilizar um método não paramétrico para realizar inferência sobre $\\bar{X}$.\n",
    "\n",
    "Bootstrapping é um método de reamostragem com reposição que consiste em recuperar a distribuição de uma medida de interesse a partir de uma amostra mestre. Com reposição significa que um mesmo elemento pode ser selecionado várias vezes, assim como outro elemento pode não ser escolhido.\n",
    "\n",
    "Dada uma amostra aleatória $x_1, x_2,..., x_n$ de uma população qualquer, devemos sortear consecutivamente, com reposição, conjuntos de tamanho também n dessa amostra. Aplicando a medida de interesse sobre as reamostragens, teremos uma distribuição da medida desejada. E com a distribuição, podemos calcular o intervalo de confiança através dos seus percentis.\n",
    "\n",
    "Portanto usaremos o método de Bootstrapping para responder à pergunta acima.\n",
    "\n",
    "Este projeto é individual.\n",
    "\n",
    "## O que deve ser feito\n",
    "\n",
    "1. Usando a amostra mestre acima, implementar o bootstrapping para **média** e **variância**, considerando a população desconhecida. Realizar 10000 sorteios com reposição. Usar a função choice() do numpy.\n",
    "2. Gerar os histogramas das amostras obtidas acima.\n",
    "3. Montar o intervalo de confiança para um nível de significância de 95% bicaudal. Responder a pergunta abaixo.\n",
    "3. Para efeito de comparação, considerar X como uma variável Beta de parâmetros a=2 e b=2. Sortear 10000 amostras de tamanho n e gerar os histogramas da média e da variância amostral.\n",
    "4. Comentar os resultados. Há viés (bias)? Que outras medidas posso utilizar no bootstrapping?\n",
    "\n",
    "## Entregáveis esperados e datas\n",
    "\n",
    "Item | Data | Descrição\n",
    "---|---|---\n",
    "Entrega| 17/09/2016| Notebook completo com os itens descritos acima via Blackboard.\n"
   ]
  },
  {
   "cell_type": "code",
   "execution_count": 107,
   "metadata": {
    "collapsed": true
   },
   "outputs": [],
   "source": [
    "sel=[]\n",
    "for m in range (10000):\n",
    "    sel.append(np.random.choice(x,n,replace=True))\n",
    "me=[]\n",
    "\n",
    "for i in sel:\n",
    "    me.append(i.mean())"
   ]
  },
  {
   "cell_type": "code",
   "execution_count": 108,
   "metadata": {
    "collapsed": false
   },
   "outputs": [
    {
     "data": {
      "text/plain": [
       "<matplotlib.axes._subplots.AxesSubplot at 0x4dcdffeb8>"
      ]
     },
     "execution_count": 108,
     "metadata": {},
     "output_type": "execute_result"
    },
    {
     "data": {
      "image/png": "[encoded data removed]",
      "text/plain": [
       "<matplotlib.figure.Figure at 0x4dce061d0>"
      ]
     },
     "metadata": {},
     "output_type": "display_data"
    }
   ],
   "source": [
    "pd.Series(me).hist(normed=True)"
   ]
  },
  {
   "cell_type": "code",
   "execution_count": 109,
   "metadata": {
    "collapsed": false
   },
   "outputs": [
    {
     "data": {
      "text/plain": [
       "<matplotlib.axes._subplots.AxesSubplot at 0x4dc36eef0>"
      ]
     },
     "execution_count": 109,
     "metadata": {},
     "output_type": "execute_result"
    },
    {
     "data": {
      "image/png": "[encoded data removed]",
      "text/plain": [
       "<matplotlib.figure.Figure at 0x4dce06080>"
      ]
     },
     "metadata": {},
     "output_type": "display_data"
    }
   ],
   "source": [
    "pd.Series(x).hist(normed=True)"
   ]
  },
  {
   "cell_type": "code",
   "execution_count": 110,
   "metadata": {
    "collapsed": true
   },
   "outputs": [],
   "source": [
    "maximo=pd.Series(me).max()\n",
    "minimo=pd.Series(me).min()"
   ]
  },
  {
   "cell_type": "code",
   "execution_count": 111,
   "metadata": {
    "collapsed": false
   },
   "outputs": [
    {
     "data": {
      "text/plain": [
       "0.41122572225000004"
      ]
     },
     "execution_count": 111,
     "metadata": {},
     "output_type": "execute_result"
    }
   ],
   "source": [
    "np.percentile(me, 2.5)"
   ]
  },
  {
   "cell_type": "code",
   "execution_count": 112,
   "metadata": {
    "collapsed": false
   },
   "outputs": [
    {
     "data": {
      "text/plain": [
       "0.67422883780769227"
      ]
     },
     "execution_count": 112,
     "metadata": {},
     "output_type": "execute_result"
    }
   ],
   "source": [
    "np.percentile(me, 97.5)"
   ]
  },
  {
   "cell_type": "code",
   "execution_count": 113,
   "metadata": {
    "collapsed": false
   },
   "outputs": [],
   "source": [
    "sel=[]\n",
    "for m in range (10000):\n",
    "    sel.append(np.random.choice(x,n,replace=True))\n",
    "me_var=[]\n",
    "\n",
    "for i in sel:\n",
    "    me_var.append(i.var())"
   ]
  },
  {
   "cell_type": "code",
   "execution_count": 114,
   "metadata": {
    "collapsed": false
   },
   "outputs": [
    {
     "data": {
      "text/plain": [
       "<matplotlib.axes._subplots.AxesSubplot at 0x4ddf3c4e0>"
      ]
     },
     "execution_count": 114,
     "metadata": {},
     "output_type": "execute_result"
    },
    {
     "data": {
      "image/png": "[encoded data removed]",
      "text/plain": [
       "<matplotlib.figure.Figure at 0x4dcef98d0>"
      ]
     },
     "metadata": {},
     "output_type": "display_data"
    }
   ],
   "source": [
    "pd.Series(me_var).hist(normed=True)"
   ]
  },
  {
   "cell_type": "code",
   "execution_count": 115,
   "metadata": {
    "collapsed": false
   },
   "outputs": [
    {
     "data": {
      "text/plain": [
       "0.024359182991830784"
      ]
     },
     "execution_count": 115,
     "metadata": {},
     "output_type": "execute_result"
    }
   ],
   "source": [
    "np.percentile(me_var, 2.5)"
   ]
  },
  {
   "cell_type": "code",
   "execution_count": 116,
   "metadata": {
    "collapsed": false
   },
   "outputs": [
    {
     "data": {
      "text/plain": [
       "0.092525090716014807"
      ]
     },
     "execution_count": 116,
     "metadata": {},
     "output_type": "execute_result"
    }
   ],
   "source": [
    "np.percentile(me_var, 97.5)"
   ]
  },
  {
   "cell_type": "code",
   "execution_count": 117,
   "metadata": {
    "collapsed": false
   },
   "outputs": [
    {
     "name": "stdout",
     "output_type": "stream",
     "text": [
      "Desvio Padrão: 0.0674215621065861\n"
     ]
    }
   ],
   "source": [
    "print(\"Desvio Padrão: {0}\".format(np.std(me, ddof=1)))"
   ]
  },
  {
   "cell_type": "code",
   "execution_count": 118,
   "metadata": {
    "collapsed": false
   },
   "outputs": [
    {
     "data": {
      "text/plain": [
       "0.0729"
      ]
     },
     "execution_count": 118,
     "metadata": {},
     "output_type": "execute_result"
    }
   ],
   "source": [
    "desv_2=0.27**2\n",
    "desv_2"
   ]
  },
  {
   "cell_type": "markdown",
   "metadata": {},
   "source": [
    "Média esta fora e variancia esta dentro"
   ]
  },
  {
   "cell_type": "code",
   "execution_count": 127,
   "metadata": {
    "collapsed": false
   },
   "outputs": [
    {
     "data": {
      "text/plain": [
       "<matplotlib.axes._subplots.AxesSubplot at 0x4de3767f0>"
      ]
     },
     "execution_count": 127,
     "metadata": {},
     "output_type": "execute_result"
    },
    {
     "data": {
      "image/png": "[encoded data removed]",
      "text/plain": [
       "<matplotlib.figure.Figure at 0x4de429a58>"
      ]
     },
     "metadata": {},
     "output_type": "display_data"
    }
   ],
   "source": [
    "n = 13\n",
    "matriz=beta.rvs(2,2,size=(10000,12))\n",
    "va_am2=[]\n",
    "for a in range (10000):\n",
    "    va_am2.append(matriz[a,:].var(ddof=1))\n",
    "pd.Series(va_am2).hist(normed=True)\n",
    "pd.Series(me_var).hist(normed=True)"
   ]
  },
  {
   "cell_type": "code",
   "execution_count": 130,
   "metadata": {
    "collapsed": false
   },
   "outputs": [
    {
     "data": {
      "text/plain": [
       "<matplotlib.axes._subplots.AxesSubplot at 0x4de5d7d68>"
      ]
     },
     "execution_count": 130,
     "metadata": {},
     "output_type": "execute_result"
    },
    {
     "data": {
      "image/png": "[encoded data removed]",
      "text/plain": [
       "<matplotlib.figure.Figure at 0x4df603470>"
      ]
     },
     "metadata": {},
     "output_type": "display_data"
    }
   ],
   "source": [
    "n = 13\n",
    "matriz2=beta.rvs(2,2,size=(10000,13))\n",
    "va_am=[]\n",
    "for a in range (10000):\n",
    "    va_am.append(matriz2[a,:].mean())\n",
    "pd.Series(va_am).hist(normed=True)\n",
    "pd.Series(me).hist(normed=True)"
   ]
  },
  {
   "cell_type": "markdown",
   "metadata": {},
   "source": [
    "Ha viés, que podemos perceber ao colocarmos um grafio sobre o outro e percebermos um deslocamento, pois não é a população, mas sim uma amostra, que não representa fielmente a população,por ser muito pequena, se fizessemos com a população teriamos um bootstrapping, que demosntraria informações muito proximas as populações, mas conseguimos representar um formato parecido com a amostra, que apresenta informações relevantes, mas mesmo assim não podemos descartar o primeiro histograma que nos foi apresentado.\n",
    "\n",
    "\n",
    "Que outras medidas posso utilizar no bootstrapping: mediana, Percentil, curtose."
   ]
  },
  {
   "cell_type": "code",
   "execution_count": null,
   "metadata": {
    "collapsed": true
   },
   "outputs": [],
   "source": []
  }
 ],
 "metadata": {
  "anaconda-cloud": {},
  "kernelspec": {
   "display_name": "Python [Root]",
   "language": "python",
   "name": "Python [Root]"
  },
  "language_info": {
   "codemirror_mode": {
    "name": "ipython",
    "version": 3
   },
   "file_extension": ".py",
   "mimetype": "text/x-python",
   "name": "python",
   "nbconvert_exporter": "python",
   "pygments_lexer": "ipython3",
   "version": "3.5.2"
  }
 },
 "nbformat": 4,
 "nbformat_minor": 0
}
