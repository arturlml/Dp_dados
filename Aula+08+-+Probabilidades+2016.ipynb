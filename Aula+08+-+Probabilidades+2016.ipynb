{
 "cells": [
  {
   "cell_type": "markdown",
   "metadata": {},
   "source": [
    "#Aula 08\n",
    "\n",
    "**Referência de Leitura:**\n",
    "1. Magalhães e Lima (7ª. Edição): pág. 49 a 68 - Probabilidades\n",
    "\n",
    "**Hoje:**\n",
    "1. Conceito de Probabilidade\n",
    "4. Probabilidade Condicional\n",
    "3. Independência de eventos\n",
    "5. Teorema de Bayes. Simulação do problema de Monty Hall\n",
    "\n",
    "**Próxima aula:**\n",
    "1. Magalhães e Lima (7ª. Edição): pág. 69 a 104 - Variáveis aleatórias discretas"
   ]
  },
  {
   "cell_type": "markdown",
   "metadata": {},
   "source": [
    "# Probabilidade:\n",
    "por caractristica ou por teste\n",
    "\n",
    "1)sempre menor que 1 e maior que zero dado que seja um envento\n",
    "\n",
    "2)P(\\omega)=1 onde omega é todo o espaço amostral = todo o universo;\n",
    "  P(de vazio) =0 \n",
    "\n",
    "3) P(uAi) = somatoria de p(Ai) onde Ai são disjuntos\n",
    "probabilidae de todas as uniões\n",
    "\n",
    "*Fazer exercicios magalhães pag 55 e 56\n",
    "\n",
    "### Probabilidade condicional\n",
    "P de A dado que ocorreu B a probabilidade é A se A e B são independentes ( B não ajuda em nada)\n",
    "\n",
    "P de A e B é a Prob de A vezes a Prob de B são independentes\n",
    "\n",
    "P de A dado que aconteceu o B é a probabilidade de os dois acontecerem dividido po P de B\n",
    "\n"
   ]
  },
  {
   "cell_type": "code",
   "execution_count": 1,
   "metadata": {
    "collapsed": true
   },
   "outputs": [],
   "source": [
    "%matplotlib inline\n",
    "\n",
    "#Bibliotecas necessárias\n",
    "from numpy.random import shuffle, randint\n",
    "import pandas as pd\n",
    "import numpy as np"
   ]
  },
  {
   "cell_type": "code",
   "execution_count": 2,
   "metadata": {
    "collapsed": false
   },
   "outputs": [
    {
     "data": {
      "text/plain": [
       "array([1, 1, 1])"
      ]
     },
     "execution_count": 2,
     "metadata": {},
     "output_type": "execute_result"
    }
   ],
   "source": [
    "np.random.randint(1,2,3)"
   ]
  },
  {
   "cell_type": "markdown",
   "metadata": {},
   "source": [
    "1) Monte a simulação de 1000 jogadas de um dado idôneo de 6 faces. Faça o histograma (normalizado) da frequência.\n",
    "\n",
    "    a) Olhando o histograma, o que pode se dizer sobre as probabilidade de cada face?\n",
    "    \n",
    "    b) Discorra sobre o porque da probabilidade não ser exatamente igual à teórica."
   ]
  },
  {
   "cell_type": "code",
   "execution_count": 5,
   "metadata": {
    "collapsed": false
   },
   "outputs": [
    {
     "name": "stdout",
     "output_type": "stream",
     "text": [
      "16.7\n",
      "17.2\n",
      "16.900000000000002\n",
      "17.0\n",
      "16.5\n",
      "15.8\n"
     ]
    }
   ],
   "source": [
    "i=0\n",
    "count1=0\n",
    "count2=0\n",
    "count3=0\n",
    "count4=0\n",
    "count5=0\n",
    "count6=0\n",
    "while i<=1000:\n",
    "    lista = [1,2,3,4,5,6]\n",
    "    shuffle (lista)\n",
    "    if lista[0] == 1:\n",
    "        count1 += 1\n",
    "    if lista[0] == 2:\n",
    "        count2 += 1\n",
    "    if lista[0] == 3:\n",
    "        count3 += 1\n",
    "    if lista[0] == 4:\n",
    "        count4 += 1\n",
    "    if lista[0] == 5:\n",
    "        count5 += 1\n",
    "    if lista[0] == 6:\n",
    "        count6 += 1\n",
    "    i+=1\n",
    "print((count1/1000)*100)\n",
    "print((count2/1000)*100)\n",
    "print((count3/1000)*100)\n",
    "print((count4/1000)*100)\n",
    "print((count5/1000)*100)\n",
    "print((count6/1000)*100)"
   ]
  },
  {
   "cell_type": "markdown",
   "metadata": {},
   "source": [
    "podemos dizer que todas as faces possuem uma probabilidade paracida onde seria 100% dividido por 6, mas existem algumas diferenças, pois no \"experimento\" a quantidade de cada face que aparece, não é uma quantidade perfeita de 1/6, pois esse é o valor experiental e não o teorico de 1/6"
   ]
  },
  {
   "cell_type": "markdown",
   "metadata": {},
   "source": [
    "2) Ampliando o espaço amostral para as possíveis jogadas de 2 dados, analise as seguintes situações:\n",
    "    \n",
    "    a) Jogando os dois dados ao mesmo tempo. Qual é a probabilidade de obter soma 7?\n",
    "    \n",
    "    b) Jogando um dado e depois o segundo dado. Qual é a probabilidade de obter soma 7 já sabendo o resultado do primeiro?"
   ]
  },
  {
   "cell_type": "code",
   "execution_count": 7,
   "metadata": {
    "collapsed": false
   },
   "outputs": [
    {
     "name": "stdout",
     "output_type": "stream",
     "text": [
      "8.5\n"
     ]
    }
   ],
   "source": [
    "j=0\n",
    "counts1=0\n",
    "counts2=0\n",
    "counts3=0\n",
    "counts4=0\n",
    "counts5=0\n",
    "counts6=0\n",
    "counts7=0\n",
    "counts8=0\n",
    "counts9=0\n",
    "counts10=0\n",
    "counts11=0\n",
    "counts12=0\n",
    "while j<=1000:\n",
    "    lista = [1,2,3,4,5,6,7,8,9,10,11,12]\n",
    "    shuffle (lista)\n",
    "    if lista[0] == 1:\n",
    "        counts1 += 1\n",
    "    if lista[0] == 2:\n",
    "        counts2 += 1\n",
    "    if lista[0] == 3:\n",
    "        counts3 += 1\n",
    "    if lista[0] == 4:\n",
    "        counts4 += 1\n",
    "    if lista[0] == 5:\n",
    "        counts5 += 1\n",
    "    if lista[0] == 6:\n",
    "        counts6 += 1\n",
    "    if lista[0] == 1:\n",
    "        counts7 += 1\n",
    "    if lista[0] == 2:\n",
    "        counts8 += 1\n",
    "    if lista[0] == 3:\n",
    "        counts9 += 1\n",
    "    if lista[0] == 4:\n",
    "        counts10 += 1\n",
    "    if lista[0] == 5:\n",
    "        counts11 += 1\n",
    "    if lista[0] == 6:\n",
    "        counts12 += 1\n",
    "    j+=1\n",
    "\n",
    "print((counts7/1000)*100)"
   ]
  },
  {
   "cell_type": "markdown",
   "metadata": {},
   "source": [
    "Probabilidade de 8.5 quando a soma dos dois dados jogados juntos é 7"
   ]
  },
  {
   "cell_type": "markdown",
   "metadata": {},
   "source": [
    "    b) Jogando um dado e depois o segundo dado. Qual é a probabilidade de obter soma 7 já sabendo o resultado do primeiro?"
   ]
  },
  {
   "cell_type": "markdown",
   "metadata": {},
   "source": [
    "Sabendo que que probabilidae de cada uma das probabilidades de se obter o valor 7 somando os dois dados, ja sabendo o primeiro,é de mais ou menos 2,75, sabemis que são apenas 6 possibilidades, com isso a probabilidade seria de 16,5%"
   ]
  },
  {
   "cell_type": "code",
   "execution_count": 10,
   "metadata": {
    "collapsed": false
   },
   "outputs": [
    {
     "name": "stdout",
     "output_type": "stream",
     "text": [
      "3.5000000000000004\n",
      "3.1\n",
      "3.1\n",
      "2.6\n",
      "3.0\n",
      "2.5\n"
     ]
    }
   ],
   "source": [
    "k=0\n",
    "counter1=0\n",
    "counter2=0\n",
    "counter3=0\n",
    "counter4=0\n",
    "counter5=0\n",
    "counter6=0\n",
    "\n",
    "while k<=1000:\n",
    "    lista = [1,2,3,4,5,6]\n",
    "    lista1= [1,2,3,4,5,6]\n",
    "    shuffle (lista)\n",
    "    shuffle (lista1)\n",
    "    if (lista[0] == 1) and (lista1[0] == 6) :\n",
    "        counter1 += 1\n",
    "    if (lista[0] == 2) and (lista1[0] == 5) :\n",
    "        counter2 += 1\n",
    "    if (lista[0] == 3) and (lista1[0] == 4) :\n",
    "        counter3 += 1\n",
    "    if (lista[0] == 4) and (lista1[0] == 3) :\n",
    "        counter4 += 1\n",
    "    if (lista[0] == 5) and (lista1[0] == 2) :\n",
    "        counter5 += 1\n",
    "    if (lista[0] == 6) and (lista1[0] == 1) :\n",
    "        counter6 += 1\n",
    "    \n",
    "    k+=1\n",
    "\n",
    "print((counter1/1000)*100)\n",
    "print((counter2/1000)*100)\n",
    "print((counter3/1000)*100)\n",
    "print((counter4/1000)*100)\n",
    "print((counter5/1000)*100)\n",
    "print((counter6/1000)*100)"
   ]
  },
  {
   "cell_type": "markdown",
   "metadata": {},
   "source": [
    "3) Simule 1000 vezes o problema de Monty Hall¹, usar o seguinte algoritmo:\n",
    "\n",
    "\n",
    "* Repetir 1000 vezes:\n",
    "    * crie uma lista com 2 cabras e um carro (simulando 3 portas).\n",
    "    * embaralhe a lista.\n",
    "    * Se o carro estiver na porta 2:\n",
    "        * Abra a porta 3 (apague o 3o item).\n",
    "    * Se o carro estiver na porta 3:\n",
    "        * Abra a porta 2 (apague o 2o item).\n",
    "    * Caso contrário sorteie uma porta (2 ou 3) para para abrir (apagar).\n",
    "    \n",
    "    * Se na porta restante houver o carro, acrescente um no contator.\n",
    "\n",
    "* Exibir quantas vezes em 1000, a porta restante tinha o carro.\n",
    "\n",
    "Compare o resultado numérico com o resultado analítico obtido via Teorema de Bayes.\n",
    "\n",
    "¹https://en.wikipedia.org/wiki/Monty_Hall_problem"
   ]
  },
  {
   "cell_type": "code",
   "execution_count": 11,
   "metadata": {
    "collapsed": false
   },
   "outputs": [
    {
     "name": "stdout",
     "output_type": "stream",
     "text": [
      "32.4\n"
     ]
    }
   ],
   "source": [
    "i=0\n",
    "count=0\n",
    "while i<=1000:\n",
    "    lista = ['g','g','c']\n",
    "    shuffle (lista)\n",
    "    if lista[1] == 'c':\n",
    "        del lista[2]\n",
    "    elif lista [2] == 'c':\n",
    "        del lista [1]\n",
    "    else :\n",
    "        idx = randint(1,2)\n",
    "        del lista [idx]\n",
    "    if lista[0]=='c':\n",
    "        count += 1\n",
    "    i+=1\n",
    "print((count/1000)*100)"
   ]
  }
 ],
 "metadata": {
  "anaconda-cloud": {},
  "kernelspec": {
   "display_name": "Python [Root]",
   "language": "python",
   "name": "Python [Root]"
  },
  "language_info": {
   "codemirror_mode": {
    "name": "ipython",
    "version": 3
   },
   "file_extension": ".py",
   "mimetype": "text/x-python",
   "name": "python",
   "nbconvert_exporter": "python",
   "pygments_lexer": "ipython3",
   "version": "3.5.2"
  }
 },
 "nbformat": 4,
 "nbformat_minor": 0
}
